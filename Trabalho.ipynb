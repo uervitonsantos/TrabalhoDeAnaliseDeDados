{
  "nbformat": 4,
  "nbformat_minor": 5,
  "metadata": {
    "kernelspec": {
      "display_name": "Python 3",
      "language": "python",
      "name": "python3"
    },
    "language_info": {
      "codemirror_mode": {
        "name": "ipython",
        "version": 3
      },
      "file_extension": ".py",
      "mimetype": "text/x-python",
      "name": "python",
      "nbconvert_exporter": "python",
      "pygments_lexer": "ipython3",
      "version": "3.8.8"
    },
    "colab": {
      "name": "Trabalho.ipynb",
      "provenance": [],
      "include_colab_link": true
    }
  },
  "cells": [
    {
      "cell_type": "markdown",
      "metadata": {
        "id": "view-in-github",
        "colab_type": "text"
      },
      "source": [
        "<a href=\"https://colab.research.google.com/github/uervitonsantos/TrabalhoDeAnaliseDeDados/blob/main/Trabalho.ipynb\" target=\"_parent\"><img src=\"https://colab.research.google.com/assets/colab-badge.svg\" alt=\"Open In Colab\"/></a>"
      ]
    },
    {
      "cell_type": "markdown",
      "metadata": {
        "id": "8a5db4c3"
      },
      "source": [
        "\n",
        "# Importando a biblioteca pandas, matplotlib e os DataFrames\n",
        "\n",
        "\n",
        "\n"
      ],
      "id": "8a5db4c3"
    },
    {
      "cell_type": "code",
      "metadata": {
        "id": "691cb274"
      },
      "source": [
        "import pandas as pd\n",
        "import matplotlib.pyplot as plt\n",
        "import numpy as np\n",
        "\n",
        "\n",
        "\n"
      ],
      "id": "691cb274",
      "execution_count": 4,
      "outputs": []
    },
    {
      "cell_type": "code",
      "metadata": {
        "id": "HLahGw5amFNp"
      },
      "source": [
        "eventos = pd.read_csv('/content/athlete_events.csv', sep=',')\n",
        "regiao = pd.read_csv('/content/noc_regions.csv', sep=',') "
      ],
      "id": "HLahGw5amFNp",
      "execution_count": 15,
      "outputs": []
    },
    {
      "cell_type": "markdown",
      "metadata": {
        "id": "be33cdd4"
      },
      "source": [
        "## Visualizando as 5 primeiras linhas dos DataFrames"
      ],
      "id": "be33cdd4"
    },
    {
      "cell_type": "code",
      "metadata": {
        "colab": {
          "base_uri": "https://localhost:8080/",
          "height": 391
        },
        "id": "c2373255",
        "outputId": "1fedbe25-29ca-41a7-c5ec-aa6850bce22d"
      },
      "source": [
        "display(eventos.head(5))"
      ],
      "id": "c2373255",
      "execution_count": 16,
      "outputs": [
        {
          "output_type": "display_data",
          "data": {
            "text/html": [
              "<div>\n",
              "<style scoped>\n",
              "    .dataframe tbody tr th:only-of-type {\n",
              "        vertical-align: middle;\n",
              "    }\n",
              "\n",
              "    .dataframe tbody tr th {\n",
              "        vertical-align: top;\n",
              "    }\n",
              "\n",
              "    .dataframe thead th {\n",
              "        text-align: right;\n",
              "    }\n",
              "</style>\n",
              "<table border=\"1\" class=\"dataframe\">\n",
              "  <thead>\n",
              "    <tr style=\"text-align: right;\">\n",
              "      <th></th>\n",
              "      <th>ID</th>\n",
              "      <th>Name</th>\n",
              "      <th>Sex</th>\n",
              "      <th>Age</th>\n",
              "      <th>Height</th>\n",
              "      <th>Weight</th>\n",
              "      <th>Team</th>\n",
              "      <th>NOC</th>\n",
              "      <th>Games</th>\n",
              "      <th>Year</th>\n",
              "      <th>Season</th>\n",
              "      <th>City</th>\n",
              "      <th>Sport</th>\n",
              "      <th>Event</th>\n",
              "      <th>Medal</th>\n",
              "    </tr>\n",
              "  </thead>\n",
              "  <tbody>\n",
              "    <tr>\n",
              "      <th>0</th>\n",
              "      <td>1</td>\n",
              "      <td>A Dijiang</td>\n",
              "      <td>M</td>\n",
              "      <td>24.0</td>\n",
              "      <td>180.0</td>\n",
              "      <td>80.0</td>\n",
              "      <td>China</td>\n",
              "      <td>CHN</td>\n",
              "      <td>1992 Summer</td>\n",
              "      <td>1992</td>\n",
              "      <td>Summer</td>\n",
              "      <td>Barcelona</td>\n",
              "      <td>Basketball</td>\n",
              "      <td>Basketball Men's Basketball</td>\n",
              "      <td>NaN</td>\n",
              "    </tr>\n",
              "    <tr>\n",
              "      <th>1</th>\n",
              "      <td>2</td>\n",
              "      <td>A Lamusi</td>\n",
              "      <td>M</td>\n",
              "      <td>23.0</td>\n",
              "      <td>170.0</td>\n",
              "      <td>60.0</td>\n",
              "      <td>China</td>\n",
              "      <td>CHN</td>\n",
              "      <td>2012 Summer</td>\n",
              "      <td>2012</td>\n",
              "      <td>Summer</td>\n",
              "      <td>London</td>\n",
              "      <td>Judo</td>\n",
              "      <td>Judo Men's Extra-Lightweight</td>\n",
              "      <td>NaN</td>\n",
              "    </tr>\n",
              "    <tr>\n",
              "      <th>2</th>\n",
              "      <td>3</td>\n",
              "      <td>Gunnar Nielsen Aaby</td>\n",
              "      <td>M</td>\n",
              "      <td>24.0</td>\n",
              "      <td>NaN</td>\n",
              "      <td>NaN</td>\n",
              "      <td>Denmark</td>\n",
              "      <td>DEN</td>\n",
              "      <td>1920 Summer</td>\n",
              "      <td>1920</td>\n",
              "      <td>Summer</td>\n",
              "      <td>Antwerpen</td>\n",
              "      <td>Football</td>\n",
              "      <td>Football Men's Football</td>\n",
              "      <td>NaN</td>\n",
              "    </tr>\n",
              "    <tr>\n",
              "      <th>3</th>\n",
              "      <td>4</td>\n",
              "      <td>Edgar Lindenau Aabye</td>\n",
              "      <td>M</td>\n",
              "      <td>34.0</td>\n",
              "      <td>NaN</td>\n",
              "      <td>NaN</td>\n",
              "      <td>Denmark/Sweden</td>\n",
              "      <td>DEN</td>\n",
              "      <td>1900 Summer</td>\n",
              "      <td>1900</td>\n",
              "      <td>Summer</td>\n",
              "      <td>Paris</td>\n",
              "      <td>Tug-Of-War</td>\n",
              "      <td>Tug-Of-War Men's Tug-Of-War</td>\n",
              "      <td>Gold</td>\n",
              "    </tr>\n",
              "    <tr>\n",
              "      <th>4</th>\n",
              "      <td>5</td>\n",
              "      <td>Christine Jacoba Aaftink</td>\n",
              "      <td>F</td>\n",
              "      <td>21.0</td>\n",
              "      <td>185.0</td>\n",
              "      <td>82.0</td>\n",
              "      <td>Netherlands</td>\n",
              "      <td>NED</td>\n",
              "      <td>1988 Winter</td>\n",
              "      <td>1988</td>\n",
              "      <td>Winter</td>\n",
              "      <td>Calgary</td>\n",
              "      <td>Speed Skating</td>\n",
              "      <td>Speed Skating Women's 500 metres</td>\n",
              "      <td>NaN</td>\n",
              "    </tr>\n",
              "  </tbody>\n",
              "</table>\n",
              "</div>"
            ],
            "text/plain": [
              "   ID                      Name  ...                             Event  Medal\n",
              "0   1                 A Dijiang  ...       Basketball Men's Basketball    NaN\n",
              "1   2                  A Lamusi  ...      Judo Men's Extra-Lightweight    NaN\n",
              "2   3       Gunnar Nielsen Aaby  ...           Football Men's Football    NaN\n",
              "3   4      Edgar Lindenau Aabye  ...       Tug-Of-War Men's Tug-Of-War   Gold\n",
              "4   5  Christine Jacoba Aaftink  ...  Speed Skating Women's 500 metres    NaN\n",
              "\n",
              "[5 rows x 15 columns]"
            ]
          },
          "metadata": {}
        }
      ]
    },
    {
      "cell_type": "code",
      "metadata": {
        "colab": {
          "base_uri": "https://localhost:8080/",
          "height": 204
        },
        "id": "3a17128e",
        "outputId": "2879fa1e-7366-463d-a438-fd0b6dbab8ba"
      },
      "source": [
        "display(regiao.head(5))"
      ],
      "id": "3a17128e",
      "execution_count": 17,
      "outputs": [
        {
          "output_type": "display_data",
          "data": {
            "text/html": [
              "<div>\n",
              "<style scoped>\n",
              "    .dataframe tbody tr th:only-of-type {\n",
              "        vertical-align: middle;\n",
              "    }\n",
              "\n",
              "    .dataframe tbody tr th {\n",
              "        vertical-align: top;\n",
              "    }\n",
              "\n",
              "    .dataframe thead th {\n",
              "        text-align: right;\n",
              "    }\n",
              "</style>\n",
              "<table border=\"1\" class=\"dataframe\">\n",
              "  <thead>\n",
              "    <tr style=\"text-align: right;\">\n",
              "      <th></th>\n",
              "      <th>NOC</th>\n",
              "      <th>region</th>\n",
              "      <th>notes</th>\n",
              "    </tr>\n",
              "  </thead>\n",
              "  <tbody>\n",
              "    <tr>\n",
              "      <th>0</th>\n",
              "      <td>AFG</td>\n",
              "      <td>Afghanistan</td>\n",
              "      <td>NaN</td>\n",
              "    </tr>\n",
              "    <tr>\n",
              "      <th>1</th>\n",
              "      <td>AHO</td>\n",
              "      <td>Curacao</td>\n",
              "      <td>Netherlands Antilles</td>\n",
              "    </tr>\n",
              "    <tr>\n",
              "      <th>2</th>\n",
              "      <td>ALB</td>\n",
              "      <td>Albania</td>\n",
              "      <td>NaN</td>\n",
              "    </tr>\n",
              "    <tr>\n",
              "      <th>3</th>\n",
              "      <td>ALG</td>\n",
              "      <td>Algeria</td>\n",
              "      <td>NaN</td>\n",
              "    </tr>\n",
              "    <tr>\n",
              "      <th>4</th>\n",
              "      <td>AND</td>\n",
              "      <td>Andorra</td>\n",
              "      <td>NaN</td>\n",
              "    </tr>\n",
              "  </tbody>\n",
              "</table>\n",
              "</div>"
            ],
            "text/plain": [
              "   NOC       region                 notes\n",
              "0  AFG  Afghanistan                   NaN\n",
              "1  AHO      Curacao  Netherlands Antilles\n",
              "2  ALB      Albania                   NaN\n",
              "3  ALG      Algeria                   NaN\n",
              "4  AND      Andorra                   NaN"
            ]
          },
          "metadata": {}
        }
      ]
    },
    {
      "cell_type": "markdown",
      "metadata": {
        "id": "a4d463f3"
      },
      "source": [
        "## Verificando informações dos DataFrames"
      ],
      "id": "a4d463f3"
    },
    {
      "cell_type": "code",
      "metadata": {
        "colab": {
          "base_uri": "https://localhost:8080/"
        },
        "id": "0a2dc672",
        "outputId": "29581cbf-a1c0-457d-e667-c56e33fbf420"
      },
      "source": [
        "eventos.info()"
      ],
      "id": "0a2dc672",
      "execution_count": 18,
      "outputs": [
        {
          "output_type": "stream",
          "name": "stdout",
          "text": [
            "<class 'pandas.core.frame.DataFrame'>\n",
            "RangeIndex: 271116 entries, 0 to 271115\n",
            "Data columns (total 15 columns):\n",
            " #   Column  Non-Null Count   Dtype  \n",
            "---  ------  --------------   -----  \n",
            " 0   ID      271116 non-null  int64  \n",
            " 1   Name    271116 non-null  object \n",
            " 2   Sex     271116 non-null  object \n",
            " 3   Age     261642 non-null  float64\n",
            " 4   Height  210945 non-null  float64\n",
            " 5   Weight  208241 non-null  float64\n",
            " 6   Team    271116 non-null  object \n",
            " 7   NOC     271116 non-null  object \n",
            " 8   Games   271116 non-null  object \n",
            " 9   Year    271116 non-null  int64  \n",
            " 10  Season  271116 non-null  object \n",
            " 11  City    271116 non-null  object \n",
            " 12  Sport   271116 non-null  object \n",
            " 13  Event   271116 non-null  object \n",
            " 14  Medal   39783 non-null   object \n",
            "dtypes: float64(3), int64(2), object(10)\n",
            "memory usage: 31.0+ MB\n"
          ]
        }
      ]
    },
    {
      "cell_type": "code",
      "metadata": {
        "colab": {
          "base_uri": "https://localhost:8080/"
        },
        "id": "88b3125c",
        "outputId": "21565f98-bd03-4d02-f9ea-e585c669b4a9"
      },
      "source": [
        "regiao.info()"
      ],
      "id": "88b3125c",
      "execution_count": 19,
      "outputs": [
        {
          "output_type": "stream",
          "name": "stdout",
          "text": [
            "<class 'pandas.core.frame.DataFrame'>\n",
            "RangeIndex: 230 entries, 0 to 229\n",
            "Data columns (total 3 columns):\n",
            " #   Column  Non-Null Count  Dtype \n",
            "---  ------  --------------  ----- \n",
            " 0   NOC     230 non-null    object\n",
            " 1   region  227 non-null    object\n",
            " 2   notes   21 non-null     object\n",
            "dtypes: object(3)\n",
            "memory usage: 5.5+ KB\n"
          ]
        }
      ]
    },
    {
      "cell_type": "markdown",
      "metadata": {
        "id": "a3dcb0cf"
      },
      "source": [
        "## Tipo dos dados do DataFrame\n"
      ],
      "id": "a3dcb0cf"
    },
    {
      "cell_type": "code",
      "metadata": {
        "colab": {
          "base_uri": "https://localhost:8080/"
        },
        "id": "dac0ff8c",
        "outputId": "8a876f4b-b087-4e7c-c9ce-9af9746b388d"
      },
      "source": [
        "eventos.dtypes"
      ],
      "id": "dac0ff8c",
      "execution_count": 20,
      "outputs": [
        {
          "output_type": "execute_result",
          "data": {
            "text/plain": [
              "ID          int64\n",
              "Name       object\n",
              "Sex        object\n",
              "Age       float64\n",
              "Height    float64\n",
              "Weight    float64\n",
              "Team       object\n",
              "NOC        object\n",
              "Games      object\n",
              "Year        int64\n",
              "Season     object\n",
              "City       object\n",
              "Sport      object\n",
              "Event      object\n",
              "Medal      object\n",
              "dtype: object"
            ]
          },
          "metadata": {},
          "execution_count": 20
        }
      ]
    },
    {
      "cell_type": "code",
      "metadata": {
        "colab": {
          "base_uri": "https://localhost:8080/"
        },
        "id": "3c824d67",
        "outputId": "57ab8585-3cd3-4ee2-bc0d-49d77eb874f0"
      },
      "source": [
        "regiao.dtypes"
      ],
      "id": "3c824d67",
      "execution_count": 21,
      "outputs": [
        {
          "output_type": "execute_result",
          "data": {
            "text/plain": [
              "NOC       object\n",
              "region    object\n",
              "notes     object\n",
              "dtype: object"
            ]
          },
          "metadata": {},
          "execution_count": 21
        }
      ]
    },
    {
      "cell_type": "markdown",
      "metadata": {
        "id": "8dead445"
      },
      "source": [
        "## Verificando a quantidade de linha e colunas"
      ],
      "id": "8dead445"
    },
    {
      "cell_type": "code",
      "metadata": {
        "colab": {
          "base_uri": "https://localhost:8080/"
        },
        "id": "59502f20",
        "outputId": "238f47b6-d7c7-4ba9-dd39-06ee2d12b0ae"
      },
      "source": [
        "eventos.shape"
      ],
      "id": "59502f20",
      "execution_count": 22,
      "outputs": [
        {
          "output_type": "execute_result",
          "data": {
            "text/plain": [
              "(271116, 15)"
            ]
          },
          "metadata": {},
          "execution_count": 22
        }
      ]
    },
    {
      "cell_type": "code",
      "metadata": {
        "colab": {
          "base_uri": "https://localhost:8080/"
        },
        "id": "86de912c",
        "outputId": "88db3ffc-d1f3-4e1a-e78e-0a1b996ca8fc"
      },
      "source": [
        "regiao.shape"
      ],
      "id": "86de912c",
      "execution_count": 23,
      "outputs": [
        {
          "output_type": "execute_result",
          "data": {
            "text/plain": [
              "(230, 3)"
            ]
          },
          "metadata": {},
          "execution_count": 23
        }
      ]
    },
    {
      "cell_type": "markdown",
      "metadata": {
        "id": "2e48035f"
      },
      "source": [
        "##  Eliminando as colunas dos DataFrames que não serão utilizadas"
      ],
      "id": "2e48035f"
    },
    {
      "cell_type": "code",
      "metadata": {
        "id": "dd2f223f"
      },
      "source": [
        "eventos = eventos.drop(['Age', 'Height', 'Weight'], axis=1)\n"
      ],
      "id": "dd2f223f",
      "execution_count": 24,
      "outputs": []
    },
    {
      "cell_type": "code",
      "metadata": {
        "id": "27beeb8b"
      },
      "source": [
        "regiao = regiao[['NOC','region']]"
      ],
      "id": "27beeb8b",
      "execution_count": 25,
      "outputs": []
    },
    {
      "cell_type": "markdown",
      "metadata": {
        "id": "18370c70"
      },
      "source": [
        "## Visualizando o resultado"
      ],
      "id": "18370c70"
    },
    {
      "cell_type": "code",
      "metadata": {
        "colab": {
          "base_uri": "https://localhost:8080/",
          "height": 529
        },
        "id": "7bf56308",
        "outputId": "189613d3-6aa3-4630-ae36-43cd6947e925"
      },
      "source": [
        "display(eventos.head(10))"
      ],
      "id": "7bf56308",
      "execution_count": 26,
      "outputs": [
        {
          "output_type": "display_data",
          "data": {
            "text/html": [
              "<div>\n",
              "<style scoped>\n",
              "    .dataframe tbody tr th:only-of-type {\n",
              "        vertical-align: middle;\n",
              "    }\n",
              "\n",
              "    .dataframe tbody tr th {\n",
              "        vertical-align: top;\n",
              "    }\n",
              "\n",
              "    .dataframe thead th {\n",
              "        text-align: right;\n",
              "    }\n",
              "</style>\n",
              "<table border=\"1\" class=\"dataframe\">\n",
              "  <thead>\n",
              "    <tr style=\"text-align: right;\">\n",
              "      <th></th>\n",
              "      <th>ID</th>\n",
              "      <th>Name</th>\n",
              "      <th>Sex</th>\n",
              "      <th>Team</th>\n",
              "      <th>NOC</th>\n",
              "      <th>Games</th>\n",
              "      <th>Year</th>\n",
              "      <th>Season</th>\n",
              "      <th>City</th>\n",
              "      <th>Sport</th>\n",
              "      <th>Event</th>\n",
              "      <th>Medal</th>\n",
              "    </tr>\n",
              "  </thead>\n",
              "  <tbody>\n",
              "    <tr>\n",
              "      <th>0</th>\n",
              "      <td>1</td>\n",
              "      <td>A Dijiang</td>\n",
              "      <td>M</td>\n",
              "      <td>China</td>\n",
              "      <td>CHN</td>\n",
              "      <td>1992 Summer</td>\n",
              "      <td>1992</td>\n",
              "      <td>Summer</td>\n",
              "      <td>Barcelona</td>\n",
              "      <td>Basketball</td>\n",
              "      <td>Basketball Men's Basketball</td>\n",
              "      <td>NaN</td>\n",
              "    </tr>\n",
              "    <tr>\n",
              "      <th>1</th>\n",
              "      <td>2</td>\n",
              "      <td>A Lamusi</td>\n",
              "      <td>M</td>\n",
              "      <td>China</td>\n",
              "      <td>CHN</td>\n",
              "      <td>2012 Summer</td>\n",
              "      <td>2012</td>\n",
              "      <td>Summer</td>\n",
              "      <td>London</td>\n",
              "      <td>Judo</td>\n",
              "      <td>Judo Men's Extra-Lightweight</td>\n",
              "      <td>NaN</td>\n",
              "    </tr>\n",
              "    <tr>\n",
              "      <th>2</th>\n",
              "      <td>3</td>\n",
              "      <td>Gunnar Nielsen Aaby</td>\n",
              "      <td>M</td>\n",
              "      <td>Denmark</td>\n",
              "      <td>DEN</td>\n",
              "      <td>1920 Summer</td>\n",
              "      <td>1920</td>\n",
              "      <td>Summer</td>\n",
              "      <td>Antwerpen</td>\n",
              "      <td>Football</td>\n",
              "      <td>Football Men's Football</td>\n",
              "      <td>NaN</td>\n",
              "    </tr>\n",
              "    <tr>\n",
              "      <th>3</th>\n",
              "      <td>4</td>\n",
              "      <td>Edgar Lindenau Aabye</td>\n",
              "      <td>M</td>\n",
              "      <td>Denmark/Sweden</td>\n",
              "      <td>DEN</td>\n",
              "      <td>1900 Summer</td>\n",
              "      <td>1900</td>\n",
              "      <td>Summer</td>\n",
              "      <td>Paris</td>\n",
              "      <td>Tug-Of-War</td>\n",
              "      <td>Tug-Of-War Men's Tug-Of-War</td>\n",
              "      <td>Gold</td>\n",
              "    </tr>\n",
              "    <tr>\n",
              "      <th>4</th>\n",
              "      <td>5</td>\n",
              "      <td>Christine Jacoba Aaftink</td>\n",
              "      <td>F</td>\n",
              "      <td>Netherlands</td>\n",
              "      <td>NED</td>\n",
              "      <td>1988 Winter</td>\n",
              "      <td>1988</td>\n",
              "      <td>Winter</td>\n",
              "      <td>Calgary</td>\n",
              "      <td>Speed Skating</td>\n",
              "      <td>Speed Skating Women's 500 metres</td>\n",
              "      <td>NaN</td>\n",
              "    </tr>\n",
              "    <tr>\n",
              "      <th>5</th>\n",
              "      <td>5</td>\n",
              "      <td>Christine Jacoba Aaftink</td>\n",
              "      <td>F</td>\n",
              "      <td>Netherlands</td>\n",
              "      <td>NED</td>\n",
              "      <td>1988 Winter</td>\n",
              "      <td>1988</td>\n",
              "      <td>Winter</td>\n",
              "      <td>Calgary</td>\n",
              "      <td>Speed Skating</td>\n",
              "      <td>Speed Skating Women's 1,000 metres</td>\n",
              "      <td>NaN</td>\n",
              "    </tr>\n",
              "    <tr>\n",
              "      <th>6</th>\n",
              "      <td>5</td>\n",
              "      <td>Christine Jacoba Aaftink</td>\n",
              "      <td>F</td>\n",
              "      <td>Netherlands</td>\n",
              "      <td>NED</td>\n",
              "      <td>1992 Winter</td>\n",
              "      <td>1992</td>\n",
              "      <td>Winter</td>\n",
              "      <td>Albertville</td>\n",
              "      <td>Speed Skating</td>\n",
              "      <td>Speed Skating Women's 500 metres</td>\n",
              "      <td>NaN</td>\n",
              "    </tr>\n",
              "    <tr>\n",
              "      <th>7</th>\n",
              "      <td>5</td>\n",
              "      <td>Christine Jacoba Aaftink</td>\n",
              "      <td>F</td>\n",
              "      <td>Netherlands</td>\n",
              "      <td>NED</td>\n",
              "      <td>1992 Winter</td>\n",
              "      <td>1992</td>\n",
              "      <td>Winter</td>\n",
              "      <td>Albertville</td>\n",
              "      <td>Speed Skating</td>\n",
              "      <td>Speed Skating Women's 1,000 metres</td>\n",
              "      <td>NaN</td>\n",
              "    </tr>\n",
              "    <tr>\n",
              "      <th>8</th>\n",
              "      <td>5</td>\n",
              "      <td>Christine Jacoba Aaftink</td>\n",
              "      <td>F</td>\n",
              "      <td>Netherlands</td>\n",
              "      <td>NED</td>\n",
              "      <td>1994 Winter</td>\n",
              "      <td>1994</td>\n",
              "      <td>Winter</td>\n",
              "      <td>Lillehammer</td>\n",
              "      <td>Speed Skating</td>\n",
              "      <td>Speed Skating Women's 500 metres</td>\n",
              "      <td>NaN</td>\n",
              "    </tr>\n",
              "    <tr>\n",
              "      <th>9</th>\n",
              "      <td>5</td>\n",
              "      <td>Christine Jacoba Aaftink</td>\n",
              "      <td>F</td>\n",
              "      <td>Netherlands</td>\n",
              "      <td>NED</td>\n",
              "      <td>1994 Winter</td>\n",
              "      <td>1994</td>\n",
              "      <td>Winter</td>\n",
              "      <td>Lillehammer</td>\n",
              "      <td>Speed Skating</td>\n",
              "      <td>Speed Skating Women's 1,000 metres</td>\n",
              "      <td>NaN</td>\n",
              "    </tr>\n",
              "  </tbody>\n",
              "</table>\n",
              "</div>"
            ],
            "text/plain": [
              "   ID                      Name  ...                               Event Medal\n",
              "0   1                 A Dijiang  ...         Basketball Men's Basketball   NaN\n",
              "1   2                  A Lamusi  ...        Judo Men's Extra-Lightweight   NaN\n",
              "2   3       Gunnar Nielsen Aaby  ...             Football Men's Football   NaN\n",
              "3   4      Edgar Lindenau Aabye  ...         Tug-Of-War Men's Tug-Of-War  Gold\n",
              "4   5  Christine Jacoba Aaftink  ...    Speed Skating Women's 500 metres   NaN\n",
              "5   5  Christine Jacoba Aaftink  ...  Speed Skating Women's 1,000 metres   NaN\n",
              "6   5  Christine Jacoba Aaftink  ...    Speed Skating Women's 500 metres   NaN\n",
              "7   5  Christine Jacoba Aaftink  ...  Speed Skating Women's 1,000 metres   NaN\n",
              "8   5  Christine Jacoba Aaftink  ...    Speed Skating Women's 500 metres   NaN\n",
              "9   5  Christine Jacoba Aaftink  ...  Speed Skating Women's 1,000 metres   NaN\n",
              "\n",
              "[10 rows x 12 columns]"
            ]
          },
          "metadata": {}
        }
      ]
    },
    {
      "cell_type": "markdown",
      "metadata": {
        "id": "deb35de9"
      },
      "source": [
        "## Realizando merge dos DataFrames"
      ],
      "id": "deb35de9"
    },
    {
      "cell_type": "code",
      "metadata": {
        "id": "b50175eb"
      },
      "source": [
        "eventos_1 = eventos.merge(regiao, on='NOC')"
      ],
      "id": "b50175eb",
      "execution_count": 27,
      "outputs": []
    },
    {
      "cell_type": "markdown",
      "metadata": {
        "id": "0ced9fa0"
      },
      "source": [
        "## Visualizando o resultado"
      ],
      "id": "0ced9fa0"
    },
    {
      "cell_type": "code",
      "metadata": {
        "colab": {
          "base_uri": "https://localhost:8080/",
          "height": 289
        },
        "id": "8ed5be17",
        "outputId": "9dccf44f-7e87-4d69-f2d6-ed5ae1452c45"
      },
      "source": [
        "display(eventos_1.head(5))"
      ],
      "id": "8ed5be17",
      "execution_count": 28,
      "outputs": [
        {
          "output_type": "display_data",
          "data": {
            "text/html": [
              "<div>\n",
              "<style scoped>\n",
              "    .dataframe tbody tr th:only-of-type {\n",
              "        vertical-align: middle;\n",
              "    }\n",
              "\n",
              "    .dataframe tbody tr th {\n",
              "        vertical-align: top;\n",
              "    }\n",
              "\n",
              "    .dataframe thead th {\n",
              "        text-align: right;\n",
              "    }\n",
              "</style>\n",
              "<table border=\"1\" class=\"dataframe\">\n",
              "  <thead>\n",
              "    <tr style=\"text-align: right;\">\n",
              "      <th></th>\n",
              "      <th>ID</th>\n",
              "      <th>Name</th>\n",
              "      <th>Sex</th>\n",
              "      <th>Team</th>\n",
              "      <th>NOC</th>\n",
              "      <th>Games</th>\n",
              "      <th>Year</th>\n",
              "      <th>Season</th>\n",
              "      <th>City</th>\n",
              "      <th>Sport</th>\n",
              "      <th>Event</th>\n",
              "      <th>Medal</th>\n",
              "      <th>region</th>\n",
              "    </tr>\n",
              "  </thead>\n",
              "  <tbody>\n",
              "    <tr>\n",
              "      <th>0</th>\n",
              "      <td>1</td>\n",
              "      <td>A Dijiang</td>\n",
              "      <td>M</td>\n",
              "      <td>China</td>\n",
              "      <td>CHN</td>\n",
              "      <td>1992 Summer</td>\n",
              "      <td>1992</td>\n",
              "      <td>Summer</td>\n",
              "      <td>Barcelona</td>\n",
              "      <td>Basketball</td>\n",
              "      <td>Basketball Men's Basketball</td>\n",
              "      <td>NaN</td>\n",
              "      <td>China</td>\n",
              "    </tr>\n",
              "    <tr>\n",
              "      <th>1</th>\n",
              "      <td>2</td>\n",
              "      <td>A Lamusi</td>\n",
              "      <td>M</td>\n",
              "      <td>China</td>\n",
              "      <td>CHN</td>\n",
              "      <td>2012 Summer</td>\n",
              "      <td>2012</td>\n",
              "      <td>Summer</td>\n",
              "      <td>London</td>\n",
              "      <td>Judo</td>\n",
              "      <td>Judo Men's Extra-Lightweight</td>\n",
              "      <td>NaN</td>\n",
              "      <td>China</td>\n",
              "    </tr>\n",
              "    <tr>\n",
              "      <th>2</th>\n",
              "      <td>602</td>\n",
              "      <td>Abudoureheman</td>\n",
              "      <td>M</td>\n",
              "      <td>China</td>\n",
              "      <td>CHN</td>\n",
              "      <td>2000 Summer</td>\n",
              "      <td>2000</td>\n",
              "      <td>Summer</td>\n",
              "      <td>Sydney</td>\n",
              "      <td>Boxing</td>\n",
              "      <td>Boxing Men's Middleweight</td>\n",
              "      <td>NaN</td>\n",
              "      <td>China</td>\n",
              "    </tr>\n",
              "    <tr>\n",
              "      <th>3</th>\n",
              "      <td>1463</td>\n",
              "      <td>Ai Linuer</td>\n",
              "      <td>M</td>\n",
              "      <td>China</td>\n",
              "      <td>CHN</td>\n",
              "      <td>2004 Summer</td>\n",
              "      <td>2004</td>\n",
              "      <td>Summer</td>\n",
              "      <td>Athina</td>\n",
              "      <td>Wrestling</td>\n",
              "      <td>Wrestling Men's Lightweight, Greco-Roman</td>\n",
              "      <td>NaN</td>\n",
              "      <td>China</td>\n",
              "    </tr>\n",
              "    <tr>\n",
              "      <th>4</th>\n",
              "      <td>1464</td>\n",
              "      <td>Ai Yanhan</td>\n",
              "      <td>F</td>\n",
              "      <td>China</td>\n",
              "      <td>CHN</td>\n",
              "      <td>2016 Summer</td>\n",
              "      <td>2016</td>\n",
              "      <td>Summer</td>\n",
              "      <td>Rio de Janeiro</td>\n",
              "      <td>Swimming</td>\n",
              "      <td>Swimming Women's 200 metres Freestyle</td>\n",
              "      <td>NaN</td>\n",
              "      <td>China</td>\n",
              "    </tr>\n",
              "  </tbody>\n",
              "</table>\n",
              "</div>"
            ],
            "text/plain": [
              "     ID           Name  ... Medal region\n",
              "0     1      A Dijiang  ...   NaN  China\n",
              "1     2       A Lamusi  ...   NaN  China\n",
              "2   602  Abudoureheman  ...   NaN  China\n",
              "3  1463      Ai Linuer  ...   NaN  China\n",
              "4  1464      Ai Yanhan  ...   NaN  China\n",
              "\n",
              "[5 rows x 13 columns]"
            ]
          },
          "metadata": {}
        }
      ]
    },
    {
      "cell_type": "markdown",
      "metadata": {
        "id": "9b4171ac"
      },
      "source": [
        "## Renomeando as colunas"
      ],
      "id": "9b4171ac"
    },
    {
      "cell_type": "code",
      "metadata": {
        "id": "3285ed96"
      },
      "source": [
        "eventos_1 = eventos.rename(columns={'Name':'Atleta', 'Sex': 'Sexo', 'Team': 'Equipe', 'Games': 'Jogos', 'Year': 'Ano', 'Season': 'Temporada', 'City': 'Cidade', 'Sport': 'Esporte', 'Event': 'Evento', 'Medal': 'Medalha', 'region': 'Região'})"
      ],
      "id": "3285ed96",
      "execution_count": 29,
      "outputs": []
    },
    {
      "cell_type": "code",
      "metadata": {
        "colab": {
          "base_uri": "https://localhost:8080/",
          "height": 289
        },
        "id": "8fd509e4",
        "outputId": "6ea22094-3e39-4f42-f59b-ea52e72dac7d"
      },
      "source": [
        "display(eventos_1.head(5))"
      ],
      "id": "8fd509e4",
      "execution_count": 30,
      "outputs": [
        {
          "output_type": "display_data",
          "data": {
            "text/html": [
              "<div>\n",
              "<style scoped>\n",
              "    .dataframe tbody tr th:only-of-type {\n",
              "        vertical-align: middle;\n",
              "    }\n",
              "\n",
              "    .dataframe tbody tr th {\n",
              "        vertical-align: top;\n",
              "    }\n",
              "\n",
              "    .dataframe thead th {\n",
              "        text-align: right;\n",
              "    }\n",
              "</style>\n",
              "<table border=\"1\" class=\"dataframe\">\n",
              "  <thead>\n",
              "    <tr style=\"text-align: right;\">\n",
              "      <th></th>\n",
              "      <th>ID</th>\n",
              "      <th>Atleta</th>\n",
              "      <th>Sexo</th>\n",
              "      <th>Equipe</th>\n",
              "      <th>NOC</th>\n",
              "      <th>Jogos</th>\n",
              "      <th>Ano</th>\n",
              "      <th>Temporada</th>\n",
              "      <th>Cidade</th>\n",
              "      <th>Esporte</th>\n",
              "      <th>Evento</th>\n",
              "      <th>Medalha</th>\n",
              "    </tr>\n",
              "  </thead>\n",
              "  <tbody>\n",
              "    <tr>\n",
              "      <th>0</th>\n",
              "      <td>1</td>\n",
              "      <td>A Dijiang</td>\n",
              "      <td>M</td>\n",
              "      <td>China</td>\n",
              "      <td>CHN</td>\n",
              "      <td>1992 Summer</td>\n",
              "      <td>1992</td>\n",
              "      <td>Summer</td>\n",
              "      <td>Barcelona</td>\n",
              "      <td>Basketball</td>\n",
              "      <td>Basketball Men's Basketball</td>\n",
              "      <td>NaN</td>\n",
              "    </tr>\n",
              "    <tr>\n",
              "      <th>1</th>\n",
              "      <td>2</td>\n",
              "      <td>A Lamusi</td>\n",
              "      <td>M</td>\n",
              "      <td>China</td>\n",
              "      <td>CHN</td>\n",
              "      <td>2012 Summer</td>\n",
              "      <td>2012</td>\n",
              "      <td>Summer</td>\n",
              "      <td>London</td>\n",
              "      <td>Judo</td>\n",
              "      <td>Judo Men's Extra-Lightweight</td>\n",
              "      <td>NaN</td>\n",
              "    </tr>\n",
              "    <tr>\n",
              "      <th>2</th>\n",
              "      <td>3</td>\n",
              "      <td>Gunnar Nielsen Aaby</td>\n",
              "      <td>M</td>\n",
              "      <td>Denmark</td>\n",
              "      <td>DEN</td>\n",
              "      <td>1920 Summer</td>\n",
              "      <td>1920</td>\n",
              "      <td>Summer</td>\n",
              "      <td>Antwerpen</td>\n",
              "      <td>Football</td>\n",
              "      <td>Football Men's Football</td>\n",
              "      <td>NaN</td>\n",
              "    </tr>\n",
              "    <tr>\n",
              "      <th>3</th>\n",
              "      <td>4</td>\n",
              "      <td>Edgar Lindenau Aabye</td>\n",
              "      <td>M</td>\n",
              "      <td>Denmark/Sweden</td>\n",
              "      <td>DEN</td>\n",
              "      <td>1900 Summer</td>\n",
              "      <td>1900</td>\n",
              "      <td>Summer</td>\n",
              "      <td>Paris</td>\n",
              "      <td>Tug-Of-War</td>\n",
              "      <td>Tug-Of-War Men's Tug-Of-War</td>\n",
              "      <td>Gold</td>\n",
              "    </tr>\n",
              "    <tr>\n",
              "      <th>4</th>\n",
              "      <td>5</td>\n",
              "      <td>Christine Jacoba Aaftink</td>\n",
              "      <td>F</td>\n",
              "      <td>Netherlands</td>\n",
              "      <td>NED</td>\n",
              "      <td>1988 Winter</td>\n",
              "      <td>1988</td>\n",
              "      <td>Winter</td>\n",
              "      <td>Calgary</td>\n",
              "      <td>Speed Skating</td>\n",
              "      <td>Speed Skating Women's 500 metres</td>\n",
              "      <td>NaN</td>\n",
              "    </tr>\n",
              "  </tbody>\n",
              "</table>\n",
              "</div>"
            ],
            "text/plain": [
              "   ID                    Atleta  ...                            Evento Medalha\n",
              "0   1                 A Dijiang  ...       Basketball Men's Basketball     NaN\n",
              "1   2                  A Lamusi  ...      Judo Men's Extra-Lightweight     NaN\n",
              "2   3       Gunnar Nielsen Aaby  ...           Football Men's Football     NaN\n",
              "3   4      Edgar Lindenau Aabye  ...       Tug-Of-War Men's Tug-Of-War    Gold\n",
              "4   5  Christine Jacoba Aaftink  ...  Speed Skating Women's 500 metres     NaN\n",
              "\n",
              "[5 rows x 12 columns]"
            ]
          },
          "metadata": {}
        }
      ]
    },
    {
      "cell_type": "markdown",
      "metadata": {
        "id": "7561dc25"
      },
      "source": [
        "## Remover as linhas onde medalha for igual a 'NaN'"
      ],
      "id": "7561dc25"
    },
    {
      "cell_type": "code",
      "metadata": {
        "id": "4186363c"
      },
      "source": [
        "eventos_2 = eventos_1.dropna()"
      ],
      "id": "4186363c",
      "execution_count": 31,
      "outputs": []
    },
    {
      "cell_type": "code",
      "metadata": {
        "colab": {
          "base_uri": "https://localhost:8080/",
          "height": 306
        },
        "id": "624faf13",
        "outputId": "ee5e2e50-5ad3-4f9a-b239-02e3d8b47afd"
      },
      "source": [
        "display(eventos_2.head(5))"
      ],
      "id": "624faf13",
      "execution_count": 32,
      "outputs": [
        {
          "output_type": "display_data",
          "data": {
            "text/html": [
              "<div>\n",
              "<style scoped>\n",
              "    .dataframe tbody tr th:only-of-type {\n",
              "        vertical-align: middle;\n",
              "    }\n",
              "\n",
              "    .dataframe tbody tr th {\n",
              "        vertical-align: top;\n",
              "    }\n",
              "\n",
              "    .dataframe thead th {\n",
              "        text-align: right;\n",
              "    }\n",
              "</style>\n",
              "<table border=\"1\" class=\"dataframe\">\n",
              "  <thead>\n",
              "    <tr style=\"text-align: right;\">\n",
              "      <th></th>\n",
              "      <th>ID</th>\n",
              "      <th>Atleta</th>\n",
              "      <th>Sexo</th>\n",
              "      <th>Equipe</th>\n",
              "      <th>NOC</th>\n",
              "      <th>Jogos</th>\n",
              "      <th>Ano</th>\n",
              "      <th>Temporada</th>\n",
              "      <th>Cidade</th>\n",
              "      <th>Esporte</th>\n",
              "      <th>Evento</th>\n",
              "      <th>Medalha</th>\n",
              "    </tr>\n",
              "  </thead>\n",
              "  <tbody>\n",
              "    <tr>\n",
              "      <th>3</th>\n",
              "      <td>4</td>\n",
              "      <td>Edgar Lindenau Aabye</td>\n",
              "      <td>M</td>\n",
              "      <td>Denmark/Sweden</td>\n",
              "      <td>DEN</td>\n",
              "      <td>1900 Summer</td>\n",
              "      <td>1900</td>\n",
              "      <td>Summer</td>\n",
              "      <td>Paris</td>\n",
              "      <td>Tug-Of-War</td>\n",
              "      <td>Tug-Of-War Men's Tug-Of-War</td>\n",
              "      <td>Gold</td>\n",
              "    </tr>\n",
              "    <tr>\n",
              "      <th>37</th>\n",
              "      <td>15</td>\n",
              "      <td>Arvo Ossian Aaltonen</td>\n",
              "      <td>M</td>\n",
              "      <td>Finland</td>\n",
              "      <td>FIN</td>\n",
              "      <td>1920 Summer</td>\n",
              "      <td>1920</td>\n",
              "      <td>Summer</td>\n",
              "      <td>Antwerpen</td>\n",
              "      <td>Swimming</td>\n",
              "      <td>Swimming Men's 200 metres Breaststroke</td>\n",
              "      <td>Bronze</td>\n",
              "    </tr>\n",
              "    <tr>\n",
              "      <th>38</th>\n",
              "      <td>15</td>\n",
              "      <td>Arvo Ossian Aaltonen</td>\n",
              "      <td>M</td>\n",
              "      <td>Finland</td>\n",
              "      <td>FIN</td>\n",
              "      <td>1920 Summer</td>\n",
              "      <td>1920</td>\n",
              "      <td>Summer</td>\n",
              "      <td>Antwerpen</td>\n",
              "      <td>Swimming</td>\n",
              "      <td>Swimming Men's 400 metres Breaststroke</td>\n",
              "      <td>Bronze</td>\n",
              "    </tr>\n",
              "    <tr>\n",
              "      <th>40</th>\n",
              "      <td>16</td>\n",
              "      <td>Juhamatti Tapio Aaltonen</td>\n",
              "      <td>M</td>\n",
              "      <td>Finland</td>\n",
              "      <td>FIN</td>\n",
              "      <td>2014 Winter</td>\n",
              "      <td>2014</td>\n",
              "      <td>Winter</td>\n",
              "      <td>Sochi</td>\n",
              "      <td>Ice Hockey</td>\n",
              "      <td>Ice Hockey Men's Ice Hockey</td>\n",
              "      <td>Bronze</td>\n",
              "    </tr>\n",
              "    <tr>\n",
              "      <th>41</th>\n",
              "      <td>17</td>\n",
              "      <td>Paavo Johannes Aaltonen</td>\n",
              "      <td>M</td>\n",
              "      <td>Finland</td>\n",
              "      <td>FIN</td>\n",
              "      <td>1948 Summer</td>\n",
              "      <td>1948</td>\n",
              "      <td>Summer</td>\n",
              "      <td>London</td>\n",
              "      <td>Gymnastics</td>\n",
              "      <td>Gymnastics Men's Individual All-Around</td>\n",
              "      <td>Bronze</td>\n",
              "    </tr>\n",
              "  </tbody>\n",
              "</table>\n",
              "</div>"
            ],
            "text/plain": [
              "    ID  ... Medalha\n",
              "3    4  ...    Gold\n",
              "37  15  ...  Bronze\n",
              "38  15  ...  Bronze\n",
              "40  16  ...  Bronze\n",
              "41  17  ...  Bronze\n",
              "\n",
              "[5 rows x 12 columns]"
            ]
          },
          "metadata": {}
        }
      ]
    },
    {
      "cell_type": "markdown",
      "metadata": {
        "id": "fc568c42"
      },
      "source": [
        "## Ordenando pelo ano no formato Ascending = True"
      ],
      "id": "fc568c42"
    },
    {
      "cell_type": "code",
      "metadata": {
        "colab": {
          "base_uri": "https://localhost:8080/",
          "height": 563
        },
        "id": "b069b8a0",
        "outputId": "bd04b98b-659b-4a31-cfdf-434cfe535160"
      },
      "source": [
        "eventos_2 = eventos_2.sort_values(['Ano'])\n",
        "\n",
        "display(eventos_2.head(10))"
      ],
      "id": "b069b8a0",
      "execution_count": 33,
      "outputs": [
        {
          "output_type": "display_data",
          "data": {
            "text/html": [
              "<div>\n",
              "<style scoped>\n",
              "    .dataframe tbody tr th:only-of-type {\n",
              "        vertical-align: middle;\n",
              "    }\n",
              "\n",
              "    .dataframe tbody tr th {\n",
              "        vertical-align: top;\n",
              "    }\n",
              "\n",
              "    .dataframe thead th {\n",
              "        text-align: right;\n",
              "    }\n",
              "</style>\n",
              "<table border=\"1\" class=\"dataframe\">\n",
              "  <thead>\n",
              "    <tr style=\"text-align: right;\">\n",
              "      <th></th>\n",
              "      <th>ID</th>\n",
              "      <th>Atleta</th>\n",
              "      <th>Sexo</th>\n",
              "      <th>Equipe</th>\n",
              "      <th>NOC</th>\n",
              "      <th>Jogos</th>\n",
              "      <th>Ano</th>\n",
              "      <th>Temporada</th>\n",
              "      <th>Cidade</th>\n",
              "      <th>Esporte</th>\n",
              "      <th>Evento</th>\n",
              "      <th>Medalha</th>\n",
              "    </tr>\n",
              "  </thead>\n",
              "  <tbody>\n",
              "    <tr>\n",
              "      <th>23916</th>\n",
              "      <td>12563</td>\n",
              "      <td>Conrad Helmut Fritz Bcker</td>\n",
              "      <td>M</td>\n",
              "      <td>Germany</td>\n",
              "      <td>GER</td>\n",
              "      <td>1896 Summer</td>\n",
              "      <td>1896</td>\n",
              "      <td>Summer</td>\n",
              "      <td>Athina</td>\n",
              "      <td>Gymnastics</td>\n",
              "      <td>Gymnastics Men's Horizontal Bar, Teams</td>\n",
              "      <td>Gold</td>\n",
              "    </tr>\n",
              "    <tr>\n",
              "      <th>244276</th>\n",
              "      <td>122329</td>\n",
              "      <td>Georgios Tsitas</td>\n",
              "      <td>M</td>\n",
              "      <td>Greece</td>\n",
              "      <td>GRE</td>\n",
              "      <td>1896 Summer</td>\n",
              "      <td>1896</td>\n",
              "      <td>Summer</td>\n",
              "      <td>Athina</td>\n",
              "      <td>Wrestling</td>\n",
              "      <td>Wrestling Men's Unlimited Class, Greco-Roman</td>\n",
              "      <td>Silver</td>\n",
              "    </tr>\n",
              "    <tr>\n",
              "      <th>214352</th>\n",
              "      <td>107613</td>\n",
              "      <td>Carl Schuhmann</td>\n",
              "      <td>M</td>\n",
              "      <td>Germany</td>\n",
              "      <td>GER</td>\n",
              "      <td>1896 Summer</td>\n",
              "      <td>1896</td>\n",
              "      <td>Summer</td>\n",
              "      <td>Athina</td>\n",
              "      <td>Gymnastics</td>\n",
              "      <td>Gymnastics Men's Horizontal Bar, Teams</td>\n",
              "      <td>Gold</td>\n",
              "    </tr>\n",
              "    <tr>\n",
              "      <th>214351</th>\n",
              "      <td>107613</td>\n",
              "      <td>Carl Schuhmann</td>\n",
              "      <td>M</td>\n",
              "      <td>Germany</td>\n",
              "      <td>GER</td>\n",
              "      <td>1896 Summer</td>\n",
              "      <td>1896</td>\n",
              "      <td>Summer</td>\n",
              "      <td>Athina</td>\n",
              "      <td>Wrestling</td>\n",
              "      <td>Wrestling Men's Unlimited Class, Greco-Roman</td>\n",
              "      <td>Gold</td>\n",
              "    </tr>\n",
              "    <tr>\n",
              "      <th>214348</th>\n",
              "      <td>107613</td>\n",
              "      <td>Carl Schuhmann</td>\n",
              "      <td>M</td>\n",
              "      <td>Germany</td>\n",
              "      <td>GER</td>\n",
              "      <td>1896 Summer</td>\n",
              "      <td>1896</td>\n",
              "      <td>Summer</td>\n",
              "      <td>Athina</td>\n",
              "      <td>Gymnastics</td>\n",
              "      <td>Gymnastics Men's Parallel Bars, Teams</td>\n",
              "      <td>Gold</td>\n",
              "    </tr>\n",
              "    <tr>\n",
              "      <th>194678</th>\n",
              "      <td>97712</td>\n",
              "      <td>Leonidas \"Leon\" Pyrgos</td>\n",
              "      <td>M</td>\n",
              "      <td>Greece</td>\n",
              "      <td>GRE</td>\n",
              "      <td>1896 Summer</td>\n",
              "      <td>1896</td>\n",
              "      <td>Summer</td>\n",
              "      <td>Athina</td>\n",
              "      <td>Fencing</td>\n",
              "      <td>Fencing Men's Foil, Masters, Individual</td>\n",
              "      <td>Gold</td>\n",
              "    </tr>\n",
              "    <tr>\n",
              "      <th>204732</th>\n",
              "      <td>102806</td>\n",
              "      <td>Richard Rstel</td>\n",
              "      <td>M</td>\n",
              "      <td>Germany</td>\n",
              "      <td>GER</td>\n",
              "      <td>1896 Summer</td>\n",
              "      <td>1896</td>\n",
              "      <td>Summer</td>\n",
              "      <td>Athina</td>\n",
              "      <td>Gymnastics</td>\n",
              "      <td>Gymnastics Men's Parallel Bars, Teams</td>\n",
              "      <td>Gold</td>\n",
              "    </tr>\n",
              "    <tr>\n",
              "      <th>204734</th>\n",
              "      <td>102806</td>\n",
              "      <td>Richard Rstel</td>\n",
              "      <td>M</td>\n",
              "      <td>Germany</td>\n",
              "      <td>GER</td>\n",
              "      <td>1896 Summer</td>\n",
              "      <td>1896</td>\n",
              "      <td>Summer</td>\n",
              "      <td>Athina</td>\n",
              "      <td>Gymnastics</td>\n",
              "      <td>Gymnastics Men's Horizontal Bar, Teams</td>\n",
              "      <td>Gold</td>\n",
              "    </tr>\n",
              "    <tr>\n",
              "      <th>214346</th>\n",
              "      <td>107613</td>\n",
              "      <td>Carl Schuhmann</td>\n",
              "      <td>M</td>\n",
              "      <td>Germany</td>\n",
              "      <td>GER</td>\n",
              "      <td>1896 Summer</td>\n",
              "      <td>1896</td>\n",
              "      <td>Summer</td>\n",
              "      <td>Athina</td>\n",
              "      <td>Gymnastics</td>\n",
              "      <td>Gymnastics Men's Horse Vault</td>\n",
              "      <td>Gold</td>\n",
              "    </tr>\n",
              "    <tr>\n",
              "      <th>42249</th>\n",
              "      <td>21795</td>\n",
              "      <td>Ellery Harding Clark</td>\n",
              "      <td>M</td>\n",
              "      <td>United States</td>\n",
              "      <td>USA</td>\n",
              "      <td>1896 Summer</td>\n",
              "      <td>1896</td>\n",
              "      <td>Summer</td>\n",
              "      <td>Athina</td>\n",
              "      <td>Athletics</td>\n",
              "      <td>Athletics Men's High Jump</td>\n",
              "      <td>Gold</td>\n",
              "    </tr>\n",
              "  </tbody>\n",
              "</table>\n",
              "</div>"
            ],
            "text/plain": [
              "            ID  ... Medalha\n",
              "23916    12563  ...    Gold\n",
              "244276  122329  ...  Silver\n",
              "214352  107613  ...    Gold\n",
              "214351  107613  ...    Gold\n",
              "214348  107613  ...    Gold\n",
              "194678   97712  ...    Gold\n",
              "204732  102806  ...    Gold\n",
              "204734  102806  ...    Gold\n",
              "214346  107613  ...    Gold\n",
              "42249    21795  ...    Gold\n",
              "\n",
              "[10 rows x 12 columns]"
            ]
          },
          "metadata": {}
        }
      ]
    },
    {
      "cell_type": "markdown",
      "metadata": {
        "id": "8ef649bf"
      },
      "source": [
        "## Total de medalhistas por sexo"
      ],
      "id": "8ef649bf"
    },
    {
      "cell_type": "code",
      "metadata": {
        "id": "606c5e95"
      },
      "source": [
        "medalhista_sexo = eventos_2['Sexo'].value_counts()"
      ],
      "id": "606c5e95",
      "execution_count": 34,
      "outputs": []
    },
    {
      "cell_type": "code",
      "metadata": {
        "colab": {
          "base_uri": "https://localhost:8080/",
          "height": 68
        },
        "id": "f56f0eb0",
        "outputId": "99aa9797-a845-49d4-fac2-d063d15b8695"
      },
      "source": [
        "display(medalhista_sexo)"
      ],
      "id": "f56f0eb0",
      "execution_count": 35,
      "outputs": [
        {
          "output_type": "display_data",
          "data": {
            "text/plain": [
              "M    28530\n",
              "F    11253\n",
              "Name: Sexo, dtype: int64"
            ]
          },
          "metadata": {}
        }
      ]
    },
    {
      "cell_type": "code",
      "metadata": {
        "colab": {
          "base_uri": "https://localhost:8080/",
          "height": 294
        },
        "id": "0fd334ae",
        "outputId": "bbe46f77-856c-494a-a472-a8ff795ec681"
      },
      "source": [
        "medalhistas = medalhista_sexo.plot.bar(title='Total de atletas Masculinos e Femininos',\n",
        "                                        xlabel='Sexo',\n",
        "                                        ylabel='Total',\n",
        "                                        color='green')\n",
        "\n"
      ],
      "id": "0fd334ae",
      "execution_count": 36,
      "outputs": [
        {
          "output_type": "display_data",
          "data": {
            "image/png": "[encoded data removed]",
            "text/plain": [
              "<Figure size 432x288 with 1 Axes>"
            ]
          },
          "metadata": {
            "needs_background": "light"
          }
        }
      ]
    },
    {
      "cell_type": "code",
      "metadata": {
        "id": "dffb4464"
      },
      "source": [
        "## Total de medalhas de ouros por sexo"
      ],
      "id": "dffb4464",
      "execution_count": 37,
      "outputs": []
    },
    {
      "cell_type": "code",
      "metadata": {
        "id": "0d6ca1d2"
      },
      "source": [
        "medalhas_de_ouro = eventos_2[eventos_2['Medalha'] == 'Gold']"
      ],
      "id": "0d6ca1d2",
      "execution_count": 38,
      "outputs": []
    },
    {
      "cell_type": "code",
      "metadata": {
        "colab": {
          "base_uri": "https://localhost:8080/",
          "height": 68
        },
        "id": "10520aa2",
        "outputId": "b28d0969-0327-4758-949a-4c973089b75b"
      },
      "source": [
        "medalhas_ouro_sexo = medalhas_de_ouro['Sexo'].value_counts()\n",
        "\n",
        "display(medalhas_ouro_sexo)"
      ],
      "id": "10520aa2",
      "execution_count": 39,
      "outputs": [
        {
          "output_type": "display_data",
          "data": {
            "text/plain": [
              "M    9625\n",
              "F    3747\n",
              "Name: Sexo, dtype: int64"
            ]
          },
          "metadata": {}
        }
      ]
    },
    {
      "cell_type": "code",
      "metadata": {
        "colab": {
          "base_uri": "https://localhost:8080/",
          "height": 294
        },
        "id": "96d51045",
        "outputId": "843813f4-0393-43e4-eeb7-89d32c31c4b9"
      },
      "source": [
        "medalhas_ouro_sexo = medalhas_ouro_sexo.plot.bar(title='Total de Medalhas de ouro por sexo',\n",
        "                                                xlabel='Sexo',\n",
        "                                                ylabel='Quantidade',\n",
        "                                                color='gold')"
      ],
      "id": "96d51045",
      "execution_count": 40,
      "outputs": [
        {
          "output_type": "display_data",
          "data": {
            "image/png": "[encoded data removed]",
            "text/plain": [
              "<Figure size 432x288 with 1 Axes>"
            ]
          },
          "metadata": {
            "needs_background": "light"
          }
        }
      ]
    },
    {
      "cell_type": "markdown",
      "metadata": {
        "id": "0f5c917a"
      },
      "source": [
        "## Total de medalhas de prata por sexo"
      ],
      "id": "0f5c917a"
    },
    {
      "cell_type": "code",
      "metadata": {
        "id": "695cceb1"
      },
      "source": [
        "medalhas_de_prata = eventos_2[eventos_2['Medalha'] == 'Silver']\n"
      ],
      "id": "695cceb1",
      "execution_count": 41,
      "outputs": []
    },
    {
      "cell_type": "code",
      "metadata": {
        "colab": {
          "base_uri": "https://localhost:8080/",
          "height": 68
        },
        "id": "96a7e24b",
        "outputId": "77fd8fcd-5097-474a-f052-07d7654a0dd0"
      },
      "source": [
        "medalhas_prata_sexo = medalhas_de_prata['Sexo'].value_counts()\n",
        "\n",
        "display(medalhas_prata_sexo)"
      ],
      "id": "96a7e24b",
      "execution_count": 42,
      "outputs": [
        {
          "output_type": "display_data",
          "data": {
            "text/plain": [
              "M    9381\n",
              "F    3735\n",
              "Name: Sexo, dtype: int64"
            ]
          },
          "metadata": {}
        }
      ]
    },
    {
      "cell_type": "code",
      "metadata": {
        "colab": {
          "base_uri": "https://localhost:8080/",
          "height": 294
        },
        "id": "112310c1",
        "outputId": "6469f0d0-f8b6-4ba8-f3f9-049f10012adf"
      },
      "source": [
        "medalhas_prata_sexo = medalhas_prata_sexo.plot.bar(title='Total de Medalhas de prata por sexo',\n",
        "                                                xlabel='Sexo',\n",
        "                                                ylabel='Quantidade',\n",
        "                                                color='silver')"
      ],
      "id": "112310c1",
      "execution_count": 43,
      "outputs": [
        {
          "output_type": "display_data",
          "data": {
            "image/png": "[encoded data removed]",
            "text/plain": [
              "<Figure size 432x288 with 1 Axes>"
            ]
          },
          "metadata": {
            "needs_background": "light"
          }
        }
      ]
    },
    {
      "cell_type": "markdown",
      "metadata": {
        "id": "3534ba5c"
      },
      "source": [
        "## Total de medalhas de bronze por sexo"
      ],
      "id": "3534ba5c"
    },
    {
      "cell_type": "code",
      "metadata": {
        "id": "12946a93"
      },
      "source": [
        "medalhas_de_bronze = eventos_2[eventos_2['Medalha'] == 'Bronze']"
      ],
      "id": "12946a93",
      "execution_count": 44,
      "outputs": []
    },
    {
      "cell_type": "code",
      "metadata": {
        "colab": {
          "base_uri": "https://localhost:8080/",
          "height": 68
        },
        "id": "f09d6838",
        "outputId": "2f690b67-5bb7-4125-9273-a738e969aebf"
      },
      "source": [
        "medalhas_bronze_sexo = medalhas_de_bronze['Sexo'].value_counts()\n",
        "\n",
        "display(medalhas_bronze_sexo)"
      ],
      "id": "f09d6838",
      "execution_count": 45,
      "outputs": [
        {
          "output_type": "display_data",
          "data": {
            "text/plain": [
              "M    9524\n",
              "F    3771\n",
              "Name: Sexo, dtype: int64"
            ]
          },
          "metadata": {}
        }
      ]
    },
    {
      "cell_type": "code",
      "metadata": {
        "colab": {
          "base_uri": "https://localhost:8080/",
          "height": 294
        },
        "id": "27a6e5c2",
        "outputId": "b63c191d-e64e-45bc-fd39-f38cacd890b1"
      },
      "source": [
        "medalhas_bronze_sexo = medalhas_bronze_sexo.plot.bar(title='Total de Medalhas de prata por sexo',\n",
        "                                                xlabel='Sexo',\n",
        "                                                ylabel='Quantidade',\n",
        "                                                color='goldenrod')"
      ],
      "id": "27a6e5c2",
      "execution_count": 46,
      "outputs": [
        {
          "output_type": "display_data",
          "data": {
            "image/png": "[encoded data removed]",
            "text/plain": [
              "<Figure size 432x288 with 1 Axes>"
            ]
          },
          "metadata": {
            "needs_background": "light"
          }
        }
      ]
    },
    {
      "cell_type": "markdown",
      "metadata": {
        "id": "22a70cfb"
      },
      "source": [
        "## Total de medalhas conquistadas pelo Brasil"
      ],
      "id": "22a70cfb"
    },
    {
      "cell_type": "code",
      "metadata": {
        "id": "3ac89a16"
      },
      "source": [
        "medalhas_Brasil = eventos_2[eventos_2['NOC'] == 'BRA' ]"
      ],
      "id": "3ac89a16",
      "execution_count": 47,
      "outputs": []
    },
    {
      "cell_type": "code",
      "metadata": {
        "colab": {
          "base_uri": "https://localhost:8080/",
          "height": 289
        },
        "id": "87f1158a",
        "outputId": "2bb2061e-e986-42b4-90f4-9ff4ab349478"
      },
      "source": [
        "display(medalhas_Brasil.head(5))"
      ],
      "id": "87f1158a",
      "execution_count": 48,
      "outputs": [
        {
          "output_type": "display_data",
          "data": {
            "text/html": [
              "<div>\n",
              "<style scoped>\n",
              "    .dataframe tbody tr th:only-of-type {\n",
              "        vertical-align: middle;\n",
              "    }\n",
              "\n",
              "    .dataframe tbody tr th {\n",
              "        vertical-align: top;\n",
              "    }\n",
              "\n",
              "    .dataframe thead th {\n",
              "        text-align: right;\n",
              "    }\n",
              "</style>\n",
              "<table border=\"1\" class=\"dataframe\">\n",
              "  <thead>\n",
              "    <tr style=\"text-align: right;\">\n",
              "      <th></th>\n",
              "      <th>ID</th>\n",
              "      <th>Atleta</th>\n",
              "      <th>Sexo</th>\n",
              "      <th>Equipe</th>\n",
              "      <th>NOC</th>\n",
              "      <th>Jogos</th>\n",
              "      <th>Ano</th>\n",
              "      <th>Temporada</th>\n",
              "      <th>Cidade</th>\n",
              "      <th>Esporte</th>\n",
              "      <th>Evento</th>\n",
              "      <th>Medalha</th>\n",
              "    </tr>\n",
              "  </thead>\n",
              "  <tbody>\n",
              "    <tr>\n",
              "      <th>224730</th>\n",
              "      <td>112886</td>\n",
              "      <td>Fernando Soledade</td>\n",
              "      <td>M</td>\n",
              "      <td>Brazil</td>\n",
              "      <td>BRA</td>\n",
              "      <td>1920 Summer</td>\n",
              "      <td>1920</td>\n",
              "      <td>Summer</td>\n",
              "      <td>Antwerpen</td>\n",
              "      <td>Shooting</td>\n",
              "      <td>Shooting Men's Free Pistol, 50 metres, Team</td>\n",
              "      <td>Bronze</td>\n",
              "    </tr>\n",
              "    <tr>\n",
              "      <th>47792</th>\n",
              "      <td>24637</td>\n",
              "      <td>Afrnio Antnio da Costa</td>\n",
              "      <td>M</td>\n",
              "      <td>Brazil</td>\n",
              "      <td>BRA</td>\n",
              "      <td>1920 Summer</td>\n",
              "      <td>1920</td>\n",
              "      <td>Summer</td>\n",
              "      <td>Antwerpen</td>\n",
              "      <td>Shooting</td>\n",
              "      <td>Shooting Men's Free Pistol, 50 metres</td>\n",
              "      <td>Silver</td>\n",
              "    </tr>\n",
              "    <tr>\n",
              "      <th>47793</th>\n",
              "      <td>24637</td>\n",
              "      <td>Afrnio Antnio da Costa</td>\n",
              "      <td>M</td>\n",
              "      <td>Brazil</td>\n",
              "      <td>BRA</td>\n",
              "      <td>1920 Summer</td>\n",
              "      <td>1920</td>\n",
              "      <td>Summer</td>\n",
              "      <td>Antwerpen</td>\n",
              "      <td>Shooting</td>\n",
              "      <td>Shooting Men's Free Pistol, 50 metres, Team</td>\n",
              "      <td>Bronze</td>\n",
              "    </tr>\n",
              "    <tr>\n",
              "      <th>181713</th>\n",
              "      <td>91332</td>\n",
              "      <td>Guilherme Paraense</td>\n",
              "      <td>M</td>\n",
              "      <td>Brazil</td>\n",
              "      <td>BRA</td>\n",
              "      <td>1920 Summer</td>\n",
              "      <td>1920</td>\n",
              "      <td>Summer</td>\n",
              "      <td>Antwerpen</td>\n",
              "      <td>Shooting</td>\n",
              "      <td>Shooting Men's Military Pistol, 30 metres</td>\n",
              "      <td>Gold</td>\n",
              "    </tr>\n",
              "    <tr>\n",
              "      <th>181712</th>\n",
              "      <td>91332</td>\n",
              "      <td>Guilherme Paraense</td>\n",
              "      <td>M</td>\n",
              "      <td>Brazil</td>\n",
              "      <td>BRA</td>\n",
              "      <td>1920 Summer</td>\n",
              "      <td>1920</td>\n",
              "      <td>Summer</td>\n",
              "      <td>Antwerpen</td>\n",
              "      <td>Shooting</td>\n",
              "      <td>Shooting Men's Free Pistol, 50 metres, Team</td>\n",
              "      <td>Bronze</td>\n",
              "    </tr>\n",
              "  </tbody>\n",
              "</table>\n",
              "</div>"
            ],
            "text/plain": [
              "            ID  ... Medalha\n",
              "224730  112886  ...  Bronze\n",
              "47792    24637  ...  Silver\n",
              "47793    24637  ...  Bronze\n",
              "181713   91332  ...    Gold\n",
              "181712   91332  ...  Bronze\n",
              "\n",
              "[5 rows x 12 columns]"
            ]
          },
          "metadata": {}
        }
      ]
    },
    {
      "cell_type": "markdown",
      "metadata": {
        "id": "3d5e1a8d"
      },
      "source": [
        "## Total de medalhas de ouro por sexo (Brasil)"
      ],
      "id": "3d5e1a8d"
    },
    {
      "cell_type": "code",
      "metadata": {
        "id": "458d84b8"
      },
      "source": [
        "medalhas_O_S_B = medalhas_Brasil[medalhas_Brasil['Medalha'] == 'Gold']"
      ],
      "id": "458d84b8",
      "execution_count": 49,
      "outputs": []
    },
    {
      "cell_type": "code",
      "metadata": {
        "colab": {
          "base_uri": "https://localhost:8080/",
          "height": 306
        },
        "id": "59ccc0ff",
        "outputId": "6a4b79d4-85a3-4c9f-ff67-0a714190339c"
      },
      "source": [
        "display(medalhas_O_S_B.head(5))"
      ],
      "id": "59ccc0ff",
      "execution_count": 50,
      "outputs": [
        {
          "output_type": "display_data",
          "data": {
            "text/html": [
              "<div>\n",
              "<style scoped>\n",
              "    .dataframe tbody tr th:only-of-type {\n",
              "        vertical-align: middle;\n",
              "    }\n",
              "\n",
              "    .dataframe tbody tr th {\n",
              "        vertical-align: top;\n",
              "    }\n",
              "\n",
              "    .dataframe thead th {\n",
              "        text-align: right;\n",
              "    }\n",
              "</style>\n",
              "<table border=\"1\" class=\"dataframe\">\n",
              "  <thead>\n",
              "    <tr style=\"text-align: right;\">\n",
              "      <th></th>\n",
              "      <th>ID</th>\n",
              "      <th>Atleta</th>\n",
              "      <th>Sexo</th>\n",
              "      <th>Equipe</th>\n",
              "      <th>NOC</th>\n",
              "      <th>Jogos</th>\n",
              "      <th>Ano</th>\n",
              "      <th>Temporada</th>\n",
              "      <th>Cidade</th>\n",
              "      <th>Esporte</th>\n",
              "      <th>Evento</th>\n",
              "      <th>Medalha</th>\n",
              "    </tr>\n",
              "  </thead>\n",
              "  <tbody>\n",
              "    <tr>\n",
              "      <th>181713</th>\n",
              "      <td>91332</td>\n",
              "      <td>Guilherme Paraense</td>\n",
              "      <td>M</td>\n",
              "      <td>Brazil</td>\n",
              "      <td>BRA</td>\n",
              "      <td>1920 Summer</td>\n",
              "      <td>1920</td>\n",
              "      <td>Summer</td>\n",
              "      <td>Antwerpen</td>\n",
              "      <td>Shooting</td>\n",
              "      <td>Shooting Men's Military Pistol, 30 metres</td>\n",
              "      <td>Gold</td>\n",
              "    </tr>\n",
              "    <tr>\n",
              "      <th>47881</th>\n",
              "      <td>24678</td>\n",
              "      <td>Adhemar Ferreira da Silva</td>\n",
              "      <td>M</td>\n",
              "      <td>Brazil</td>\n",
              "      <td>BRA</td>\n",
              "      <td>1952 Summer</td>\n",
              "      <td>1952</td>\n",
              "      <td>Summer</td>\n",
              "      <td>Helsinki</td>\n",
              "      <td>Athletics</td>\n",
              "      <td>Athletics Men's Triple Jump</td>\n",
              "      <td>Gold</td>\n",
              "    </tr>\n",
              "    <tr>\n",
              "      <th>47882</th>\n",
              "      <td>24678</td>\n",
              "      <td>Adhemar Ferreira da Silva</td>\n",
              "      <td>M</td>\n",
              "      <td>Brazil</td>\n",
              "      <td>BRA</td>\n",
              "      <td>1956 Summer</td>\n",
              "      <td>1956</td>\n",
              "      <td>Summer</td>\n",
              "      <td>Melbourne</td>\n",
              "      <td>Athletics</td>\n",
              "      <td>Athletics Men's Triple Jump</td>\n",
              "      <td>Gold</td>\n",
              "    </tr>\n",
              "    <tr>\n",
              "      <th>224203</th>\n",
              "      <td>112616</td>\n",
              "      <td>Marcos Pinto Rizzo Soares</td>\n",
              "      <td>M</td>\n",
              "      <td>Brazil</td>\n",
              "      <td>BRA</td>\n",
              "      <td>1980 Summer</td>\n",
              "      <td>1980</td>\n",
              "      <td>Summer</td>\n",
              "      <td>Moskva</td>\n",
              "      <td>Sailing</td>\n",
              "      <td>Sailing Mixed Two Person Dinghy</td>\n",
              "      <td>Gold</td>\n",
              "    </tr>\n",
              "    <tr>\n",
              "      <th>185075</th>\n",
              "      <td>93022</td>\n",
              "      <td>Eduardo Henrique Gomes Penido</td>\n",
              "      <td>M</td>\n",
              "      <td>Brazil</td>\n",
              "      <td>BRA</td>\n",
              "      <td>1980 Summer</td>\n",
              "      <td>1980</td>\n",
              "      <td>Summer</td>\n",
              "      <td>Moskva</td>\n",
              "      <td>Sailing</td>\n",
              "      <td>Sailing Mixed Two Person Dinghy</td>\n",
              "      <td>Gold</td>\n",
              "    </tr>\n",
              "  </tbody>\n",
              "</table>\n",
              "</div>"
            ],
            "text/plain": [
              "            ID  ... Medalha\n",
              "181713   91332  ...    Gold\n",
              "47881    24678  ...    Gold\n",
              "47882    24678  ...    Gold\n",
              "224203  112616  ...    Gold\n",
              "185075   93022  ...    Gold\n",
              "\n",
              "[5 rows x 12 columns]"
            ]
          },
          "metadata": {}
        }
      ]
    },
    {
      "cell_type": "code",
      "metadata": {
        "colab": {
          "base_uri": "https://localhost:8080/",
          "height": 68
        },
        "id": "ecd605d0",
        "outputId": "f44624f3-cb04-45a8-9e81-e7380ef5d4ce"
      },
      "source": [
        "medalhas_O_S_B = medalhas_O_S_B['Sexo'].value_counts()\n",
        "\n",
        "display(medalhas_O_S_B.head(5))"
      ],
      "id": "ecd605d0",
      "execution_count": 51,
      "outputs": [
        {
          "output_type": "display_data",
          "data": {
            "text/plain": [
              "M    78\n",
              "F    31\n",
              "Name: Sexo, dtype: int64"
            ]
          },
          "metadata": {}
        }
      ]
    },
    {
      "cell_type": "code",
      "metadata": {
        "colab": {
          "base_uri": "https://localhost:8080/",
          "height": 264
        },
        "id": "4603cc99",
        "outputId": "a3501505-0583-4c0d-e66a-77959b46e5d4"
      },
      "source": [
        "medalhas_O_S_B = medalhas_O_S_B.plot.pie(title='Total de medalhas de Ouro por sexo')"
      ],
      "id": "4603cc99",
      "execution_count": 52,
      "outputs": [
        {
          "output_type": "display_data",
          "data": {
            "image/png": "[encoded data removed]",
            "text/plain": [
              "<Figure size 432x288 with 1 Axes>"
            ]
          },
          "metadata": {}
        }
      ]
    },
    {
      "cell_type": "markdown",
      "metadata": {
        "id": "1042a010"
      },
      "source": [
        "## Total de medalhas de prata por sexo (Brasil)"
      ],
      "id": "1042a010"
    },
    {
      "cell_type": "code",
      "metadata": {
        "id": "e870b0b9"
      },
      "source": [
        "medalhas_P_S_B = medalhas_Brasil[medalhas_Brasil['Medalha'] == 'Silver']"
      ],
      "id": "e870b0b9",
      "execution_count": 53,
      "outputs": []
    },
    {
      "cell_type": "code",
      "metadata": {
        "colab": {
          "base_uri": "https://localhost:8080/",
          "height": 289
        },
        "id": "018a5eaa",
        "outputId": "b887bd4a-8652-4176-fb7f-2e893b769192"
      },
      "source": [
        "display(medalhas_P_S_B.head())"
      ],
      "id": "018a5eaa",
      "execution_count": 54,
      "outputs": [
        {
          "output_type": "display_data",
          "data": {
            "text/html": [
              "<div>\n",
              "<style scoped>\n",
              "    .dataframe tbody tr th:only-of-type {\n",
              "        vertical-align: middle;\n",
              "    }\n",
              "\n",
              "    .dataframe tbody tr th {\n",
              "        vertical-align: top;\n",
              "    }\n",
              "\n",
              "    .dataframe thead th {\n",
              "        text-align: right;\n",
              "    }\n",
              "</style>\n",
              "<table border=\"1\" class=\"dataframe\">\n",
              "  <thead>\n",
              "    <tr style=\"text-align: right;\">\n",
              "      <th></th>\n",
              "      <th>ID</th>\n",
              "      <th>Atleta</th>\n",
              "      <th>Sexo</th>\n",
              "      <th>Equipe</th>\n",
              "      <th>NOC</th>\n",
              "      <th>Jogos</th>\n",
              "      <th>Ano</th>\n",
              "      <th>Temporada</th>\n",
              "      <th>Cidade</th>\n",
              "      <th>Esporte</th>\n",
              "      <th>Evento</th>\n",
              "      <th>Medalha</th>\n",
              "    </tr>\n",
              "  </thead>\n",
              "  <tbody>\n",
              "    <tr>\n",
              "      <th>47792</th>\n",
              "      <td>24637</td>\n",
              "      <td>Afrnio Antnio da Costa</td>\n",
              "      <td>M</td>\n",
              "      <td>Brazil</td>\n",
              "      <td>BRA</td>\n",
              "      <td>1920 Summer</td>\n",
              "      <td>1920</td>\n",
              "      <td>Summer</td>\n",
              "      <td>Antwerpen</td>\n",
              "      <td>Shooting</td>\n",
              "      <td>Shooting Men's Free Pistol, 50 metres</td>\n",
              "      <td>Silver</td>\n",
              "    </tr>\n",
              "    <tr>\n",
              "      <th>193788</th>\n",
              "      <td>97270</td>\n",
              "      <td>Nlson Prudncio</td>\n",
              "      <td>M</td>\n",
              "      <td>Brazil</td>\n",
              "      <td>BRA</td>\n",
              "      <td>1968 Summer</td>\n",
              "      <td>1968</td>\n",
              "      <td>Summer</td>\n",
              "      <td>Mexico City</td>\n",
              "      <td>Athletics</td>\n",
              "      <td>Athletics Men's Triple Jump</td>\n",
              "      <td>Silver</td>\n",
              "    </tr>\n",
              "    <tr>\n",
              "      <th>1651</th>\n",
              "      <td>918</td>\n",
              "      <td>Ademir Roque Kaefer</td>\n",
              "      <td>M</td>\n",
              "      <td>Brazil</td>\n",
              "      <td>BRA</td>\n",
              "      <td>1984 Summer</td>\n",
              "      <td>1984</td>\n",
              "      <td>Summer</td>\n",
              "      <td>Los Angeles</td>\n",
              "      <td>Football</td>\n",
              "      <td>Football Men's Football</td>\n",
              "      <td>Silver</td>\n",
              "    </tr>\n",
              "    <tr>\n",
              "      <th>1733</th>\n",
              "      <td>966</td>\n",
              "      <td>Daniel Adler</td>\n",
              "      <td>M</td>\n",
              "      <td>Brazil</td>\n",
              "      <td>BRA</td>\n",
              "      <td>1984 Summer</td>\n",
              "      <td>1984</td>\n",
              "      <td>Summer</td>\n",
              "      <td>Los Angeles</td>\n",
              "      <td>Sailing</td>\n",
              "      <td>Sailing Mixed Three Person Keelboat</td>\n",
              "      <td>Silver</td>\n",
              "    </tr>\n",
              "    <tr>\n",
              "      <th>261703</th>\n",
              "      <td>130944</td>\n",
              "      <td>Lus Carlos Coelho Winck</td>\n",
              "      <td>M</td>\n",
              "      <td>Brazil</td>\n",
              "      <td>BRA</td>\n",
              "      <td>1984 Summer</td>\n",
              "      <td>1984</td>\n",
              "      <td>Summer</td>\n",
              "      <td>Los Angeles</td>\n",
              "      <td>Football</td>\n",
              "      <td>Football Men's Football</td>\n",
              "      <td>Silver</td>\n",
              "    </tr>\n",
              "  </tbody>\n",
              "</table>\n",
              "</div>"
            ],
            "text/plain": [
              "            ID  ... Medalha\n",
              "47792    24637  ...  Silver\n",
              "193788   97270  ...  Silver\n",
              "1651       918  ...  Silver\n",
              "1733       966  ...  Silver\n",
              "261703  130944  ...  Silver\n",
              "\n",
              "[5 rows x 12 columns]"
            ]
          },
          "metadata": {}
        }
      ]
    },
    {
      "cell_type": "code",
      "metadata": {
        "colab": {
          "base_uri": "https://localhost:8080/",
          "height": 68
        },
        "id": "30badf05",
        "outputId": "46c2bfa3-d0f9-46b5-fe5a-68592702af51"
      },
      "source": [
        "medalhas_P_S_B = medalhas_P_S_B['Sexo'].value_counts()\n",
        "\n",
        "display(medalhas_P_S_B.head(5))"
      ],
      "id": "30badf05",
      "execution_count": 55,
      "outputs": [
        {
          "output_type": "display_data",
          "data": {
            "text/plain": [
              "M    120\n",
              "F     55\n",
              "Name: Sexo, dtype: int64"
            ]
          },
          "metadata": {}
        }
      ]
    },
    {
      "cell_type": "code",
      "metadata": {
        "colab": {
          "base_uri": "https://localhost:8080/",
          "height": 264
        },
        "id": "a1d8800c",
        "outputId": "167b5469-50f5-482e-b7e4-6f2de96bdc45"
      },
      "source": [
        "medalhas_P_S_B = medalhas_P_S_B.plot.pie(title='Total de medalhas de Prata por sexo')"
      ],
      "id": "a1d8800c",
      "execution_count": 56,
      "outputs": [
        {
          "output_type": "display_data",
          "data": {
            "image/png": "[encoded data removed]",
            "text/plain": [
              "<Figure size 432x288 with 1 Axes>"
            ]
          },
          "metadata": {}
        }
      ]
    },
    {
      "cell_type": "markdown",
      "metadata": {
        "id": "792c6180"
      },
      "source": [
        "## Total de medalhas de bronze por sexo (Brasil)"
      ],
      "id": "792c6180"
    },
    {
      "cell_type": "code",
      "metadata": {
        "id": "cf187930"
      },
      "source": [
        "medalhas_B_S_B = medalhas_Brasil[medalhas_Brasil['Medalha'] == 'Bronze']"
      ],
      "id": "cf187930",
      "execution_count": 57,
      "outputs": []
    },
    {
      "cell_type": "code",
      "metadata": {
        "colab": {
          "base_uri": "https://localhost:8080/",
          "height": 289
        },
        "id": "fa277b69",
        "outputId": "56584f30-16e1-4245-fb2c-5a107a5ffd38"
      },
      "source": [
        "display(medalhas_B_S_B.head(5))"
      ],
      "id": "fa277b69",
      "execution_count": 58,
      "outputs": [
        {
          "output_type": "display_data",
          "data": {
            "text/html": [
              "<div>\n",
              "<style scoped>\n",
              "    .dataframe tbody tr th:only-of-type {\n",
              "        vertical-align: middle;\n",
              "    }\n",
              "\n",
              "    .dataframe tbody tr th {\n",
              "        vertical-align: top;\n",
              "    }\n",
              "\n",
              "    .dataframe thead th {\n",
              "        text-align: right;\n",
              "    }\n",
              "</style>\n",
              "<table border=\"1\" class=\"dataframe\">\n",
              "  <thead>\n",
              "    <tr style=\"text-align: right;\">\n",
              "      <th></th>\n",
              "      <th>ID</th>\n",
              "      <th>Atleta</th>\n",
              "      <th>Sexo</th>\n",
              "      <th>Equipe</th>\n",
              "      <th>NOC</th>\n",
              "      <th>Jogos</th>\n",
              "      <th>Ano</th>\n",
              "      <th>Temporada</th>\n",
              "      <th>Cidade</th>\n",
              "      <th>Esporte</th>\n",
              "      <th>Evento</th>\n",
              "      <th>Medalha</th>\n",
              "    </tr>\n",
              "  </thead>\n",
              "  <tbody>\n",
              "    <tr>\n",
              "      <th>224730</th>\n",
              "      <td>112886</td>\n",
              "      <td>Fernando Soledade</td>\n",
              "      <td>M</td>\n",
              "      <td>Brazil</td>\n",
              "      <td>BRA</td>\n",
              "      <td>1920 Summer</td>\n",
              "      <td>1920</td>\n",
              "      <td>Summer</td>\n",
              "      <td>Antwerpen</td>\n",
              "      <td>Shooting</td>\n",
              "      <td>Shooting Men's Free Pistol, 50 metres, Team</td>\n",
              "      <td>Bronze</td>\n",
              "    </tr>\n",
              "    <tr>\n",
              "      <th>47793</th>\n",
              "      <td>24637</td>\n",
              "      <td>Afrnio Antnio da Costa</td>\n",
              "      <td>M</td>\n",
              "      <td>Brazil</td>\n",
              "      <td>BRA</td>\n",
              "      <td>1920 Summer</td>\n",
              "      <td>1920</td>\n",
              "      <td>Summer</td>\n",
              "      <td>Antwerpen</td>\n",
              "      <td>Shooting</td>\n",
              "      <td>Shooting Men's Free Pistol, 50 metres, Team</td>\n",
              "      <td>Bronze</td>\n",
              "    </tr>\n",
              "    <tr>\n",
              "      <th>181712</th>\n",
              "      <td>91332</td>\n",
              "      <td>Guilherme Paraense</td>\n",
              "      <td>M</td>\n",
              "      <td>Brazil</td>\n",
              "      <td>BRA</td>\n",
              "      <td>1920 Summer</td>\n",
              "      <td>1920</td>\n",
              "      <td>Summer</td>\n",
              "      <td>Antwerpen</td>\n",
              "      <td>Shooting</td>\n",
              "      <td>Shooting Men's Free Pistol, 50 metres, Team</td>\n",
              "      <td>Bronze</td>\n",
              "    </tr>\n",
              "    <tr>\n",
              "      <th>262475</th>\n",
              "      <td>131327</td>\n",
              "      <td>Sebastio Wolf</td>\n",
              "      <td>M</td>\n",
              "      <td>Brazil</td>\n",
              "      <td>BRA</td>\n",
              "      <td>1920 Summer</td>\n",
              "      <td>1920</td>\n",
              "      <td>Summer</td>\n",
              "      <td>Antwerpen</td>\n",
              "      <td>Shooting</td>\n",
              "      <td>Shooting Men's Free Pistol, 50 metres, Team</td>\n",
              "      <td>Bronze</td>\n",
              "    </tr>\n",
              "    <tr>\n",
              "      <th>14409</th>\n",
              "      <td>7767</td>\n",
              "      <td>Dario Barbosa</td>\n",
              "      <td>M</td>\n",
              "      <td>Brazil</td>\n",
              "      <td>BRA</td>\n",
              "      <td>1920 Summer</td>\n",
              "      <td>1920</td>\n",
              "      <td>Summer</td>\n",
              "      <td>Antwerpen</td>\n",
              "      <td>Shooting</td>\n",
              "      <td>Shooting Men's Free Pistol, 50 metres, Team</td>\n",
              "      <td>Bronze</td>\n",
              "    </tr>\n",
              "  </tbody>\n",
              "</table>\n",
              "</div>"
            ],
            "text/plain": [
              "            ID  ... Medalha\n",
              "224730  112886  ...  Bronze\n",
              "47793    24637  ...  Bronze\n",
              "181712   91332  ...  Bronze\n",
              "262475  131327  ...  Bronze\n",
              "14409     7767  ...  Bronze\n",
              "\n",
              "[5 rows x 12 columns]"
            ]
          },
          "metadata": {}
        }
      ]
    },
    {
      "cell_type": "code",
      "metadata": {
        "colab": {
          "base_uri": "https://localhost:8080/",
          "height": 68
        },
        "id": "cf3432be",
        "outputId": "f495d9b6-0a39-4a20-a4b3-f7aaf156aa0f"
      },
      "source": [
        "medalhas_B_S_B = medalhas_B_S_B['Sexo'].value_counts()\n",
        "\n",
        "display(medalhas_B_S_B.head(5))"
      ],
      "id": "cf3432be",
      "execution_count": 59,
      "outputs": [
        {
          "output_type": "display_data",
          "data": {
            "text/plain": [
              "M    142\n",
              "F     49\n",
              "Name: Sexo, dtype: int64"
            ]
          },
          "metadata": {}
        }
      ]
    },
    {
      "cell_type": "code",
      "metadata": {
        "colab": {
          "base_uri": "https://localhost:8080/",
          "height": 264
        },
        "id": "5a742b78",
        "outputId": "d3716305-028a-4a38-ca23-02d3b8ea73eb"
      },
      "source": [
        "medalhas_B_S_B = medalhas_B_S_B.plot.pie(title='Total de medalhas de Bronze por sexo')"
      ],
      "id": "5a742b78",
      "execution_count": 60,
      "outputs": [
        {
          "output_type": "display_data",
          "data": {
            "image/png": "[encoded data removed]",
            "text/plain": [
              "<Figure size 432x288 with 1 Axes>"
            ]
          },
          "metadata": {}
        }
      ]
    }
  ]
}